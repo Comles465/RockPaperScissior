{
 "cells": [
  {
   "cell_type": "code",
   "execution_count": 3,
   "id": "dee21027",
   "metadata": {},
   "outputs": [
    {
     "name": "stdout",
     "output_type": "stream",
     "text": [
      "Winning rules of Rock Paper and Scissor game as follows:\n",
      "rock vs paper->paper wins\n",
      "rock vs scissors->rock wins\n",
      "paper vs scissors->scissors wins\n",
      "Enter choice:\n",
      "1.Rock\n",
      "2.Paper\n",
      "3.Scissors\n",
      "Enter your choice:2\n",
      "User choice is:\n",
      " Paper\n",
      "Now it is computer's turn\n",
      "Computer choice is:\n",
      " RocK\n",
      "Lets decide the winning team\n",
      "paper wins\n",
      "User wins\n",
      "Thanks for playing\n"
     ]
    }
   ],
   "source": [
    "import random \n",
    "result=0\n",
    "print(\"Winning rules of Rock Paper and Scissor game as follows:\")\n",
    "print(\"rock vs paper->paper wins\")\n",
    "print(\"rock vs scissors->rock wins\")\n",
    "print(\"paper vs scissors->scissors wins\")\n",
    "while True:\n",
    "    print(\"Enter choice:\\n1.Rock\\n2.Paper\\n3.Scissors\")\n",
    "    choice=int(input(\"Enter your choice:\"))\n",
    "    while(choice>3 or choice<1):\n",
    "        choice=int(input(\"Enter your valid choice\"))\n",
    "        choice_name\n",
    "    if choice==1:\n",
    "        choice_name='Rock'\n",
    "    elif choice==2:\n",
    "        choice_name='Paper'\n",
    "    else:\n",
    "        choice_name='Scissors'\n",
    "    print(\"User choice is:\\n\",choice_name)\n",
    "    print(\"Now it is computer's turn\")\n",
    "    comp_choice=random.randint(1,3)\n",
    "    while comp_choice==choice:\n",
    "        comp_choice=random.randint(1,3)\n",
    "    if comp_choice==1:\n",
    "        comp_choice_name='RocK'\n",
    "    elif comp_choice==2:\n",
    "        comp_choice_name='PapeR'\n",
    "    else:\n",
    "        comp_choice_name='ScissorS'\n",
    "    print(\"Computer choice is:\\n\",comp_choice_name)\n",
    "    print(\"Lets decide the winning team\")\n",
    "    if choice==comp_choice:\n",
    "        print(\"DRAW\")\n",
    "        result=\"draw\"\n",
    "    if choice==1 and comp_choice==2:\n",
    "        print(\"paper wins\")\n",
    "        result=\"PapeR\"\n",
    "        \n",
    "    elif choice==2 and comp_choice==1:\n",
    "        print(\"paper wins\")\n",
    "        result=\"Paper\"\n",
    "    if choice==2 and comp_choice==3:\n",
    "        print(\"scissors wins\")\n",
    "        result=\"ScissorS\"\n",
    "    elif choice==3 and comp_choice==2:\n",
    "        print(\"scissors wins\")\n",
    "        result=\"Scissors\"\n",
    "    if choice==3 and comp_choice==1:\n",
    "        print(\"rock wins\")\n",
    "        result=\"RocK\"\n",
    "    elif choice==1 and comp_choice==3:\n",
    "        print(\"rock wins\")\n",
    "        result=\"Rock\"\n",
    "    if result==\"draw\":\n",
    "        print(\"DRAW Happened\")\n",
    "    if result==comp_choice_name :\n",
    "        print(\"Computer wins\")\n",
    "    else:\n",
    "        print(\"User wins\")\n",
    "        \n",
    "    print(\"Thanks for playing\")\n",
    "    break    \n",
    "\n"
   ]
  },
  {
   "cell_type": "code",
   "execution_count": null,
   "id": "3afd39e0",
   "metadata": {},
   "outputs": [],
   "source": []
  },
  {
   "cell_type": "code",
   "execution_count": null,
   "id": "b03fe103",
   "metadata": {},
   "outputs": [],
   "source": []
  },
  {
   "cell_type": "code",
   "execution_count": null,
   "id": "29aa2b11",
   "metadata": {},
   "outputs": [],
   "source": []
  },
  {
   "cell_type": "code",
   "execution_count": null,
   "id": "8e1becd2",
   "metadata": {},
   "outputs": [],
   "source": []
  },
  {
   "cell_type": "code",
   "execution_count": null,
   "id": "16428306",
   "metadata": {},
   "outputs": [],
   "source": []
  }
 ],
 "metadata": {
  "kernelspec": {
   "display_name": "Python 3 (ipykernel)",
   "language": "python",
   "name": "python3"
  },
  "language_info": {
   "codemirror_mode": {
    "name": "ipython",
    "version": 3
   },
   "file_extension": ".py",
   "mimetype": "text/x-python",
   "name": "python",
   "nbconvert_exporter": "python",
   "pygments_lexer": "ipython3",
   "version": "3.9.13"
  }
 },
 "nbformat": 4,
 "nbformat_minor": 5
}
